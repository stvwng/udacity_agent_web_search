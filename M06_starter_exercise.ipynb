{
 "cells": [
  {
   "cell_type": "markdown",
   "id": "e3778898",
   "metadata": {},
   "source": [
    "# [STARTER] Exercise - Build a Web-Aware Agent with Search and Knowledge Comparison\n",
    "\n",
    "In this exercise, you'll build an agent that can search the web for current information and compare\n",
    "it with its internal knowledge. This demonstrates how to enhance an LLM's capabilities with real-time\n",
    "web data and how to critically analyze differences between sources.\n"
   ]
  },
  {
   "cell_type": "markdown",
   "id": "12e57bd8",
   "metadata": {},
   "source": [
    "## Challenge\n",
    "\n",
    "Your task is to create an agent that can:\n",
    "\n",
    "- Implement web search functionality using Tavily API\n",
    "- Parse and process search results effectively\n",
    "- Handle different types of queries (news, facts, events)\n",
    "- Extract relevant information from search results"
   ]
  },
  {
   "cell_type": "markdown",
   "id": "9fa44fc7",
   "metadata": {},
   "source": [
    "## Setup\n",
    "First, let's import the necessary libraries:"
   ]
  },
  {
   "cell_type": "code",
   "execution_count": 1,
   "id": "08286c75",
   "metadata": {},
   "outputs": [],
   "source": [
    "import os, json\n",
    "from datetime import datetime\n",
    "from typing import List, Dict\n",
    "from tavily import TavilyClient\n",
    "\n",
    "from lib.agents import Agent\n",
    "from lib.messages import BaseMessage\n",
    "from lib.tooling import tool"
   ]
  },
  {
   "cell_type": "markdown",
   "id": "97097944",
   "metadata": {},
   "source": [
    "## Play with Tavily"
   ]
  },
  {
   "cell_type": "code",
   "execution_count": 2,
   "id": "969ea654",
   "metadata": {},
   "outputs": [],
   "source": [
    "api_key = os.getenv(\"TAVILY_API_KEY\")\n",
    "client = TavilyClient(api_key=api_key)"
   ]
  },
  {
   "cell_type": "code",
   "execution_count": 3,
   "id": "0ef0dd71",
   "metadata": {},
   "outputs": [],
   "source": [
    "# [TODO] Define a query and run\n",
    "query = \"when will construction in piazza venezia be completed\"\n",
    "result = client.search(query)"
   ]
  },
  {
   "cell_type": "code",
   "execution_count": 4,
   "id": "72354d62",
   "metadata": {},
   "outputs": [
    {
     "data": {
      "text/plain": [
       "{'query': 'when will construction in piazza venezia be completed',\n",
       " 'follow_up_questions': None,\n",
       " 'answer': None,\n",
       " 'images': [],\n",
       " 'results': [{'url': 'https://www.saturdaysinrome.com/blog/piazza-venezia-construction/',\n",
       "   'title': 'The Piazza Venezia Construction Is An Obstacle For Visitors',\n",
       "   'content': \"The current (as of 2023) thinking is that the project will be completed by 2033, but I don't think long term planning is possible with a construction project\",\n",
       "   'score': 0.83932644,\n",
       "   'raw_content': None},\n",
       "  {'url': 'https://www.webuildgroup.com/en/discovery/video/project-murales-contemporary-art-metro-c-piazza-venezia-construction-site/',\n",
       "   'title': 'Project \"Murales\", contemporary art in the Metro C Piazza Venezia ...',\n",
       "   'content': \"Starting in December 2024, new pieces of art will be featured every four months on the silos of the Metro C's Piazza Venezia construction site, transforming\",\n",
       "   'score': 0.79637206,\n",
       "   'raw_content': None},\n",
       "  {'url': 'https://www.webuildgroup.com/en/media/press-notes/murales-installation-piazza-venezia-metro-line-c/',\n",
       "   'title': 'Webuild: first “Murales” installation unveiled at Piazza Venezia',\n",
       "   'content': '### The construction site of Piazza Venezia, part of Rome\\'s Metro Line C, turned into a museum *Rome**,**December\\xa016, 2024* – Piazza Venezia reveals a remarkable transformation, **unveiling Rome’s largest open-air art installations** to the world. This challenging and visionary project, *“****Murales: Contemporary Art in the Metro****,”* is spearheaded by the consortium of companies led by Webuild and Vianini Lavori, responsible for constructing the **Venezia Station**. The project’s launch press conference took place at Palazzo Colonna and was attended by Rome’s Mayor Roberto Gualtieri, Renata Cristina Mazzantini, Director of the Galleria Nazionale d\\'Arte Moderna e Contemporanea and President of the Scientific Committee, artist Pietro Ruffo,\\xa0 Pietro Salini, CEO of Webuild and Vincenzo Onorato, CEO of Vianini Lavori. ###### Project \"Murales\", contemporary art in the Metro C Piazza Venezia construction site',\n",
       "   'score': 0.77792513,\n",
       "   'raw_content': None},\n",
       "  {'url': 'https://www.tripadvisor.com/ShowTopic-g187791-i22-k14923961-Ongoing_construction_in_Rome_November_December_2024-Rome_Lazio.html',\n",
       "   'title': 'Ongoing construction in Rome…November/December 2024',\n",
       "   'content': 'Piazza Venezia. The piazza in front of the Altare della Patria (Vittorio Monument) is subject to works on Line C of the metro and the',\n",
       "   'score': 0.767638,\n",
       "   'raw_content': None},\n",
       "  {'url': 'https://www.webuildvalue.com/en/reportage/jubilee-2025-rome-metro.html',\n",
       "   'title': \"Jubilee 2025: Rome's Open Challenges - We Build Value\",\n",
       "   'content': 'Jubilee 2025 in Rome: major construction sites and cultural initiatives for the revival of the eternal city · From Piazza Venezia, a Work of Art',\n",
       "   'score': 0.3634441,\n",
       "   'raw_content': None}],\n",
       " 'response_time': 1.31,\n",
       " 'request_id': 'f26bbfd7-cb17-436c-b0ac-201920295d8e'}"
      ]
     },
     "execution_count": 4,
     "metadata": {},
     "output_type": "execute_result"
    }
   ],
   "source": [
    "result"
   ]
  },
  {
   "cell_type": "markdown",
   "id": "b04a0de2",
   "metadata": {},
   "source": [
    "## Define Web Search tool"
   ]
  },
  {
   "cell_type": "code",
   "execution_count": 5,
   "id": "10a41cb2",
   "metadata": {},
   "outputs": [],
   "source": [
    "@tool\n",
    "def web_search(query: str, search_depth: str = \"advanced\", tavily_client: TavilyClient = client) -> Dict:\n",
    "    \"\"\"\n",
    "    Search the web using Tavily API\n",
    "    args:\n",
    "        query (str): Search query\n",
    "        search_depth (str): Type of search - 'basic' or 'advanced' (default: advanced)\n",
    "        tavily_client (TavilyClient): Tavily instance\n",
    "    \"\"\"\n",
    "    \n",
    "    # Perform the search\n",
    "    search_result = client.search(\n",
    "        query=query,\n",
    "        search_depth=search_depth,\n",
    "        include_answer=True,\n",
    "        include_raw_content=False,\n",
    "        include_images=False\n",
    "    )\n",
    "    \n",
    "    # Format the results\n",
    "    formatted_results = {\n",
    "        \"answer\": search_result.get(\"answer\", \"\"),\n",
    "        \"results\": search_result.get(\"results\", []),\n",
    "        \"search_metadata\": {\n",
    "            \"timestamp\": datetime.now().isoformat(),\n",
    "            \"query\": query\n",
    "        }\n",
    "    }\n",
    "    \n",
    "    return formatted_results"
   ]
  },
  {
   "cell_type": "code",
   "execution_count": 6,
   "id": "9f67b873",
   "metadata": {},
   "outputs": [],
   "source": [
    "tools = [web_search]"
   ]
  },
  {
   "cell_type": "markdown",
   "id": "29d998d2",
   "metadata": {},
   "source": [
    "## Define Agents"
   ]
  },
  {
   "cell_type": "markdown",
   "id": "aa26baa4",
   "metadata": {},
   "source": [
    "The first agent should not use tools, just its own knowledge. The second one should have web search tool enabled."
   ]
  },
  {
   "cell_type": "code",
   "execution_count": 8,
   "id": "a8e4b392",
   "metadata": {},
   "outputs": [],
   "source": [
    "# [TODO] Agent with no tools\n",
    "simple_agent = Agent(model_name=\"gpt-4o-mini\", instructions=\"You are a helpful assistant.\")"
   ]
  },
  {
   "cell_type": "code",
   "execution_count": 9,
   "id": "c7ff665d",
   "metadata": {},
   "outputs": [],
   "source": [
    "web_agent = Agent(\n",
    "    model_name=\"gpt-4o-mini\",\n",
    "    instructions=(\n",
    "            \"You are a web-aware assistant that can search for update information \"\n",
    "            \"For each query, you will search the web for current information using \" \n",
    "            \"Tavily's AI-optimized search and provide a comprehensive answer\\n\"\n",
    "            \"Always cite your sources and explain any discrepancies found.\\n\"\n",
    "            \"Be particularly attentive to dates and time-sensitive information.\"\n",
    "    ),\n",
    "    tools=tools\n",
    ")"
   ]
  },
  {
   "cell_type": "code",
   "execution_count": 10,
   "id": "c74d8aef",
   "metadata": {},
   "outputs": [],
   "source": [
    "def print_messages(messages: List[BaseMessage]):\n",
    "    for m in messages:\n",
    "        print(f\" -> (role = {m.role}, content = {m.content}, tool_calls = {getattr(m, 'tool_calls', None)})\")"
   ]
  },
  {
   "cell_type": "markdown",
   "id": "bf6168f5",
   "metadata": {},
   "source": [
    "## Run your Agents"
   ]
  },
  {
   "cell_type": "markdown",
   "id": "00d41b25",
   "metadata": {},
   "source": [
    "Run the Agents and compare them. The following queries are just for reference. Change them as you want."
   ]
  },
  {
   "cell_type": "markdown",
   "id": "e41026a0",
   "metadata": {},
   "source": [
    "**Simple Agent**\n",
    "\n",
    "**Note**: This example relies on the date being recent enough that the answer will not be in the model's training data. Try with other current events/dates if needed to get similar results."
   ]
  },
  {
   "cell_type": "code",
   "execution_count": 11,
   "id": "647e7987",
   "metadata": {},
   "outputs": [
    {
     "name": "stdout",
     "output_type": "stream",
     "text": [
      "[StateMachine] Starting: __entry__\n",
      "[StateMachine] Executing step: message_prep\n",
      "[StateMachine] Executing step: llm_processor\n",
      "[StateMachine] Terminating: __termination__\n",
      "\n",
      "Messages from run 1:\n",
      " -> (role = system, content = You are a helpful assistant., tool_calls = None)\n",
      " -> (role = user, content = Who won the 2025 Oscar for International Movie?, tool_calls = None)\n",
      " -> (role = assistant, content = I'm sorry, but I cannot provide information about events or awards that occurred after my knowledge cutoff date in October 2023. You may want to check a reliable news source or the official Oscars website for the most current information on the 2025 Oscars., tool_calls = None)\n"
     ]
    }
   ],
   "source": [
    "run1 = simple_agent.invoke(\n",
    "    query=\"Who won the 2025 Oscar for International Movie?\", \n",
    ")\n",
    "\n",
    "print(\"\\nMessages from run 1:\")\n",
    "messages = run1.get_final_state()[\"messages\"]\n",
    "print_messages(messages)"
   ]
  },
  {
   "cell_type": "code",
   "execution_count": 12,
   "id": "14dd2e35",
   "metadata": {},
   "outputs": [
    {
     "name": "stdout",
     "output_type": "stream",
     "text": [
      "I'm sorry, but I cannot provide information about events or awards that occurred after my knowledge cutoff date in October 2023. You may want to check a reliable news source or the official Oscars website for the most current information on the 2025 Oscars.\n"
     ]
    }
   ],
   "source": [
    "print(run1.get_final_state()[\"messages\"][-1].content)"
   ]
  },
  {
   "cell_type": "code",
   "execution_count": 13,
   "id": "a057ad60",
   "metadata": {},
   "outputs": [
    {
     "name": "stdout",
     "output_type": "stream",
     "text": [
      "[StateMachine] Starting: __entry__\n",
      "[StateMachine] Executing step: message_prep\n",
      "[StateMachine] Executing step: llm_processor\n",
      "[StateMachine] Terminating: __termination__\n",
      "\n",
      "Messages from run 2:\n",
      " -> (role = system, content = You are a helpful assistant., tool_calls = None)\n",
      " -> (role = user, content = Who won the 2025 Oscar for International Movie?, tool_calls = None)\n",
      " -> (role = assistant, content = I'm sorry, but I cannot provide information about events or awards that occurred after my knowledge cutoff date in October 2023. You may want to check a reliable news source or the official Oscars website for the most current information on the 2025 Oscars., tool_calls = None)\n",
      " -> (role = user, content = What are the most recent developments in AI technology?, tool_calls = None)\n",
      " -> (role = assistant, content = As of my last knowledge update in October 2023, here are some notable trends and developments in AI technology:\n",
      "\n",
      "1. **Generative AI Advances**: Generative AI models, particularly large language models (LLMs) like GPT-4, have continued to evolve, with improvements in their ability to generate coherent and contextually relevant text, as well as in applications such as image and video generation.\n",
      "\n",
      "2. **AI in Healthcare**: AI applications in healthcare have expanded, with improved diagnostic tools, predictive analytics for patient outcomes, and AI-driven drug discovery processes. Machine learning models are increasingly used to analyze medical images and provide insights for treatment plans.\n",
      "\n",
      "3. **Ethical AI and Regulation**: There has been a significant focus on the ethical implications of AI, leading to discussions about regulations and frameworks to ensure responsible AI development and deployment. Governments and organizations are working on guidelines to address bias, privacy, and transparency in AI systems.\n",
      "\n",
      "4. **AI in Autonomous Systems**: Developments in AI for autonomous vehicles and drones have progressed, with advances in perception, decision-making, and safety protocols. Companies are testing self-driving technologies in more complex environments.\n",
      "\n",
      "5. **AI and Natural Language Processing**: NLP has seen breakthroughs with models that can understand and generate human-like text. Applications range from chatbots to content generation and real-time translation services.\n",
      "\n",
      "6. **AI in Business Operations**: Businesses are increasingly adopting AI for predictive analytics, customer service automation, supply chain optimization, and personalized marketing strategies.\n",
      "\n",
      "7. **AI for Climate Change**: AI technologies are being leveraged to tackle climate change issues, including energy optimization, climate modeling, and enhancing renewable energy systems.\n",
      "\n",
      "8. **Collaborative AI**: The concept of collaborative AI, where AI systems work alongside humans to augment their capabilities rather than replace them, has become more prominent, especially in creative fields and decision-making processes.\n",
      "\n",
      "For the latest developments beyond October 2023, I recommend checking recent publications, tech news sites, or AI research journals., tool_calls = None)\n"
     ]
    }
   ],
   "source": [
    "run2 = simple_agent.invoke(\n",
    "    query=\"What are the most recent developments in AI technology?\", \n",
    ")\n",
    "print(\"\\nMessages from run 2:\")\n",
    "messages = run2.get_final_state()[\"messages\"]\n",
    "print_messages(messages)"
   ]
  },
  {
   "cell_type": "code",
   "execution_count": 14,
   "id": "c781d4b1",
   "metadata": {},
   "outputs": [
    {
     "name": "stdout",
     "output_type": "stream",
     "text": [
      "As of my last knowledge update in October 2023, here are some notable trends and developments in AI technology:\n",
      "\n",
      "1. **Generative AI Advances**: Generative AI models, particularly large language models (LLMs) like GPT-4, have continued to evolve, with improvements in their ability to generate coherent and contextually relevant text, as well as in applications such as image and video generation.\n",
      "\n",
      "2. **AI in Healthcare**: AI applications in healthcare have expanded, with improved diagnostic tools, predictive analytics for patient outcomes, and AI-driven drug discovery processes. Machine learning models are increasingly used to analyze medical images and provide insights for treatment plans.\n",
      "\n",
      "3. **Ethical AI and Regulation**: There has been a significant focus on the ethical implications of AI, leading to discussions about regulations and frameworks to ensure responsible AI development and deployment. Governments and organizations are working on guidelines to address bias, privacy, and transparency in AI systems.\n",
      "\n",
      "4. **AI in Autonomous Systems**: Developments in AI for autonomous vehicles and drones have progressed, with advances in perception, decision-making, and safety protocols. Companies are testing self-driving technologies in more complex environments.\n",
      "\n",
      "5. **AI and Natural Language Processing**: NLP has seen breakthroughs with models that can understand and generate human-like text. Applications range from chatbots to content generation and real-time translation services.\n",
      "\n",
      "6. **AI in Business Operations**: Businesses are increasingly adopting AI for predictive analytics, customer service automation, supply chain optimization, and personalized marketing strategies.\n",
      "\n",
      "7. **AI for Climate Change**: AI technologies are being leveraged to tackle climate change issues, including energy optimization, climate modeling, and enhancing renewable energy systems.\n",
      "\n",
      "8. **Collaborative AI**: The concept of collaborative AI, where AI systems work alongside humans to augment their capabilities rather than replace them, has become more prominent, especially in creative fields and decision-making processes.\n",
      "\n",
      "For the latest developments beyond October 2023, I recommend checking recent publications, tech news sites, or AI research journals.\n"
     ]
    }
   ],
   "source": [
    "print(run2.get_final_state()[\"messages\"][-1].content)"
   ]
  },
  {
   "cell_type": "markdown",
   "id": "237903c7",
   "metadata": {},
   "source": [
    "**Web Agent**"
   ]
  },
  {
   "cell_type": "code",
   "execution_count": 15,
   "id": "89c9238c",
   "metadata": {},
   "outputs": [
    {
     "name": "stdout",
     "output_type": "stream",
     "text": [
      "[StateMachine] Starting: __entry__\n",
      "[StateMachine] Executing step: message_prep\n",
      "[StateMachine] Executing step: llm_processor\n",
      "[StateMachine] Executing step: tool_executor\n",
      "[StateMachine] Executing step: llm_processor\n",
      "[StateMachine] Terminating: __termination__\n",
      "\n",
      "Messages from run 1:\n",
      " -> (role = system, content = You are a web-aware assistant that can search for update information For each query, you will search the web for current information using Tavily's AI-optimized search and provide a comprehensive answer\n",
      "Always cite your sources and explain any discrepancies found.\n",
      "Be particularly attentive to dates and time-sensitive information., tool_calls = None)\n",
      " -> (role = user, content = Who won the 2025 Oscar for International Movie?, tool_calls = None)\n",
      " -> (role = assistant, content = None, tool_calls = [ChatCompletionMessageFunctionToolCall(id='call_fHLpgdYAN9vzxo0vCKXmqUiB', function=Function(arguments='{\"query\":\"2025 Oscar winner International Movie\",\"search_depth\":\"basic\"}', name='web_search'), type='function')])\n",
      " -> (role = tool, content = \"{'answer': 'The 2025 Oscar winner for Best International Feature Film is Brazil\\\\'s \\\"I\\\\'m Still Here.\\\" Anora won Best Picture. The Brutalist won Best Cinematography.', 'results': [{'url': 'https://www.npr.org/2025/03/02/nx-s1-5315313/oscars-2025-im-still-here-brazil-best-international-feature', 'title': \\\"Oscars 2025: Brazil's 'I'm Still Here' wins best international ...\\\", 'content': \\\"**Oscars 2025: Brazil\\u2019s \\u2018I\\u2019m Still Here\\u2019 wins best international feature** **The film is based on a true story set in 1970s Rio de Janeiro, when Brazil was living under a military dictatorship.** # Brazil's 'I'm Still Here' wins best international feature at the Oscars *I'm Still Here* director Walter Salles, left, and star Fernanda Torres arrive at the Oscars on Sunday. **Richard Shotwell/Invision/AP**  ****hide caption**** Actress Fernanda Torres was also nominated for an Oscar for her leading role as Eunice Paiva. *I'm Still Here* also features Torres' real-life legendary mother, 95-year-old Fernanda Montenegro, who plays an older version of Paiva in the film. ### A family endures a dictatorship in the Oscar-nominated 'I'm Still Here'\\\", 'score': 0.8861155, 'raw_content': None}, {'url': 'https://www.bbc.com/news/articles/c1mngz9zreno', 'title': 'Oscars 2025: The list of winners in full', 'content': \\\"# The full list of Oscar winners The Academy Awards have taken place in Los Angeles, with Anora scooping the most honours, while Conclave, The Brutalist, Wicked and Emilia P\\u00e9rez also took prizes. Here is the full list of winners. * **WINNER: Anora** * **WINNER: Adrien Brody - The Brutalist** * **WINNER: Zoe Salda\\u00f1a - Emilia P\\u00e9rez** * **WINNER: I'm Still Here - Brazil** * **WINNER: Flow** * **WINNER: Conclave - Peter Straughan** * **WINNER: El Mal - Emilia P\\u00e9rez** * **WINNER: The Brutalist** * **WINNER: No Other Land** * **WINNER: Wicked** * **WINNER: The Substance** * **WINNER: Wicked** * **WINNER: Dune: Part Two** * **WINNER: Anora** * **WINNER: The Brutalist** * **WINNER: Dune: Part Two** * **WINNER: I'm Not a Robot**\\\", 'score': 0.8727061, 'raw_content': None}, {'url': 'https://www.ign.com/articles/oscar-winners-2025-the-full-list-of-winners-from-the-97th-academy-awards', 'title': 'The Full List of Winners From the 97th Academy Awards', 'content': \\\"Oscar Winners 2025: The Full List ofWinnersFrom the 97thAcademy Awards...InternationalFeatureFilm. I'm Still Here (Brazil) -WINNER; The Girl With\\\", 'score': 0.79484755, 'raw_content': None}, {'url': 'https://abc.com/news/8d96bb37-bd59-4c28-a470-46f244f63b3b/category/3590742', 'title': 'Oscars 2025 Winners: Full List of the 97th Academy ... - ABC', 'content': 'The Oscar winners 2025 complete list is here! ANORA\\\\xa0\\\\xa0**\\\\\\\\*\\\\\\\\*WINNER\\\\\\\\*\\\\\\\\*** Alex Coco, Samantha Quan and Sean Baker, Producers THE BRUTALIST Nick Gordon, Brian Young, Andrew Morrison, D.J. Gugenheim and Brady Corbet, Producers A COMPLETE UNKNOWN Fred Berger, James Mangold and Alex Heineman, Producers CONCLAVE Tessa Ross, Juliette Howell and Michael A. ANORA\\\\xa0**\\\\\\\\*\\\\\\\\*WINNER\\\\\\\\*\\\\\\\\*** Sean Baker THE BRUTALIST Brady Corbet A COMPLETE UNKNOWN James Mangold EMILIA P\\u00c9REZ Jacques Audiard THE SUBSTANCE Coralie Fargeat ANORA\\\\xa0\\\\xa0**\\\\\\\\*\\\\\\\\*WINNER\\\\\\\\*\\\\\\\\*** Sean Baker THE BRUTALIST David Jancso CONCLAVE Nick Emerson EMILIA P\\u00c9REZ Juliette Welfling WICKED Myron Kerstein A COMPLETE UNKNOWNScreenplay by James Mangold and Jay CocksCONCLAVE\\\\xa0**\\\\\\\\*\\\\\\\\*WINNER\\\\\\\\*\\\\\\\\*** Screenplay by Peter Straughan EMILIA P\\u00c9REZ Screenplay by Jacques Audiard; In collaboration with Thomas Bidegain, L\\u00e9a Mysius and Nicolas Livecchi NICKEL BOYS Screenplay by RaMell Ross & Joslyn Barnes SING SING Screenplay by Clint Bentley, Greg Kwedar; Story by Clint Bentley, Greg Kwedar, Clarence Maclin, John \\\"Divine G\\\" Whitfield', 'score': 0.79293, 'raw_content': None}, {'url': 'https://www.reddit.com/r/movies/comments/1j29pq0/2025_oscar_winners_anora_wins_best_picture/', 'title': \\\"2025 Oscar Winners: 'Anora' Wins Best Picture & Director ...\\\", 'content': \\\"BestInternationalFeatureFilm: I'm Still Here (Brazil). Best Cinematography: The Brutalist (Lol Crawley). Live-Action ShortFilm: I'm Not a\\\", 'score': 0.7407191, 'raw_content': None}], 'search_metadata': {'timestamp': '2025-10-07T13:24:44.607983', 'query': '2025 Oscar winner International Movie'}}\", tool_calls = None)\n",
      " -> (role = assistant, content = The winner of the 2025 Oscar for Best International Feature Film is Brazil's *I'm Still Here*. This film, directed by Walter Salles, is based on a true story set in 1970s Rio de Janeiro during the period of military dictatorship. The film stars Fernanda Torres, who was also nominated for her leading role in the movie. \n",
      "\n",
      "In addition to *I'm Still Here* winning in the international category, the film *Anora* took home the award for Best Picture at the same ceremony. Other notable winners included *The Brutalist* for Best Cinematography and Zoe Saldaña for her role in *Emilia Pérez*.\n",
      "\n",
      "For more details, you can check the sources from NPR [here](https://www.npr.org/2025/03/02/nx-s1-5315313/oscars-2025-im-still-here-brazil-best-international-feature) and BBC [here](https://www.bbc.com/news/articles/c1mngz9zreno)., tool_calls = None)\n"
     ]
    }
   ],
   "source": [
    "run1 = web_agent.invoke(\n",
    "    query=\"Who won the 2025 Oscar for International Movie?\", \n",
    ")\n",
    "\n",
    "print(\"\\nMessages from run 1:\")\n",
    "messages = run1.get_final_state()[\"messages\"]\n",
    "print_messages(messages)"
   ]
  },
  {
   "cell_type": "code",
   "execution_count": 16,
   "id": "cf73be45",
   "metadata": {},
   "outputs": [
    {
     "name": "stdout",
     "output_type": "stream",
     "text": [
      "The winner of the 2025 Oscar for Best International Feature Film is Brazil's *I'm Still Here*. This film, directed by Walter Salles, is based on a true story set in 1970s Rio de Janeiro during the period of military dictatorship. The film stars Fernanda Torres, who was also nominated for her leading role in the movie. \n",
      "\n",
      "In addition to *I'm Still Here* winning in the international category, the film *Anora* took home the award for Best Picture at the same ceremony. Other notable winners included *The Brutalist* for Best Cinematography and Zoe Saldaña for her role in *Emilia Pérez*.\n",
      "\n",
      "For more details, you can check the sources from NPR [here](https://www.npr.org/2025/03/02/nx-s1-5315313/oscars-2025-im-still-here-brazil-best-international-feature) and BBC [here](https://www.bbc.com/news/articles/c1mngz9zreno).\n"
     ]
    }
   ],
   "source": [
    "print(run1.get_final_state()[\"messages\"][-1].content)"
   ]
  },
  {
   "cell_type": "code",
   "execution_count": 17,
   "id": "65e6b006",
   "metadata": {},
   "outputs": [
    {
     "name": "stdout",
     "output_type": "stream",
     "text": [
      "[StateMachine] Starting: __entry__\n",
      "[StateMachine] Executing step: message_prep\n",
      "[StateMachine] Executing step: llm_processor\n",
      "[StateMachine] Executing step: tool_executor\n",
      "[StateMachine] Executing step: llm_processor\n",
      "[StateMachine] Terminating: __termination__\n",
      "\n",
      "Messages from run 2:\n",
      " -> (role = system, content = You are a web-aware assistant that can search for update information For each query, you will search the web for current information using Tavily's AI-optimized search and provide a comprehensive answer\n",
      "Always cite your sources and explain any discrepancies found.\n",
      "Be particularly attentive to dates and time-sensitive information., tool_calls = None)\n",
      " -> (role = user, content = Who won the 2025 Oscar for International Movie?, tool_calls = None)\n",
      " -> (role = assistant, content = None, tool_calls = [ChatCompletionMessageFunctionToolCall(id='call_fHLpgdYAN9vzxo0vCKXmqUiB', function=Function(arguments='{\"query\":\"2025 Oscar winner International Movie\",\"search_depth\":\"basic\"}', name='web_search'), type='function')])\n",
      " -> (role = tool, content = \"{'answer': 'The 2025 Oscar winner for Best International Feature Film is Brazil\\\\'s \\\"I\\\\'m Still Here.\\\" Anora won Best Picture. The Brutalist won Best Cinematography.', 'results': [{'url': 'https://www.npr.org/2025/03/02/nx-s1-5315313/oscars-2025-im-still-here-brazil-best-international-feature', 'title': \\\"Oscars 2025: Brazil's 'I'm Still Here' wins best international ...\\\", 'content': \\\"**Oscars 2025: Brazil\\u2019s \\u2018I\\u2019m Still Here\\u2019 wins best international feature** **The film is based on a true story set in 1970s Rio de Janeiro, when Brazil was living under a military dictatorship.** # Brazil's 'I'm Still Here' wins best international feature at the Oscars *I'm Still Here* director Walter Salles, left, and star Fernanda Torres arrive at the Oscars on Sunday. **Richard Shotwell/Invision/AP**  ****hide caption**** Actress Fernanda Torres was also nominated for an Oscar for her leading role as Eunice Paiva. *I'm Still Here* also features Torres' real-life legendary mother, 95-year-old Fernanda Montenegro, who plays an older version of Paiva in the film. ### A family endures a dictatorship in the Oscar-nominated 'I'm Still Here'\\\", 'score': 0.8861155, 'raw_content': None}, {'url': 'https://www.bbc.com/news/articles/c1mngz9zreno', 'title': 'Oscars 2025: The list of winners in full', 'content': \\\"# The full list of Oscar winners The Academy Awards have taken place in Los Angeles, with Anora scooping the most honours, while Conclave, The Brutalist, Wicked and Emilia P\\u00e9rez also took prizes. Here is the full list of winners. * **WINNER: Anora** * **WINNER: Adrien Brody - The Brutalist** * **WINNER: Zoe Salda\\u00f1a - Emilia P\\u00e9rez** * **WINNER: I'm Still Here - Brazil** * **WINNER: Flow** * **WINNER: Conclave - Peter Straughan** * **WINNER: El Mal - Emilia P\\u00e9rez** * **WINNER: The Brutalist** * **WINNER: No Other Land** * **WINNER: Wicked** * **WINNER: The Substance** * **WINNER: Wicked** * **WINNER: Dune: Part Two** * **WINNER: Anora** * **WINNER: The Brutalist** * **WINNER: Dune: Part Two** * **WINNER: I'm Not a Robot**\\\", 'score': 0.8727061, 'raw_content': None}, {'url': 'https://www.ign.com/articles/oscar-winners-2025-the-full-list-of-winners-from-the-97th-academy-awards', 'title': 'The Full List of Winners From the 97th Academy Awards', 'content': \\\"Oscar Winners 2025: The Full List ofWinnersFrom the 97thAcademy Awards...InternationalFeatureFilm. I'm Still Here (Brazil) -WINNER; The Girl With\\\", 'score': 0.79484755, 'raw_content': None}, {'url': 'https://abc.com/news/8d96bb37-bd59-4c28-a470-46f244f63b3b/category/3590742', 'title': 'Oscars 2025 Winners: Full List of the 97th Academy ... - ABC', 'content': 'The Oscar winners 2025 complete list is here! ANORA\\\\xa0\\\\xa0**\\\\\\\\*\\\\\\\\*WINNER\\\\\\\\*\\\\\\\\*** Alex Coco, Samantha Quan and Sean Baker, Producers THE BRUTALIST Nick Gordon, Brian Young, Andrew Morrison, D.J. Gugenheim and Brady Corbet, Producers A COMPLETE UNKNOWN Fred Berger, James Mangold and Alex Heineman, Producers CONCLAVE Tessa Ross, Juliette Howell and Michael A. ANORA\\\\xa0**\\\\\\\\*\\\\\\\\*WINNER\\\\\\\\*\\\\\\\\*** Sean Baker THE BRUTALIST Brady Corbet A COMPLETE UNKNOWN James Mangold EMILIA P\\u00c9REZ Jacques Audiard THE SUBSTANCE Coralie Fargeat ANORA\\\\xa0\\\\xa0**\\\\\\\\*\\\\\\\\*WINNER\\\\\\\\*\\\\\\\\*** Sean Baker THE BRUTALIST David Jancso CONCLAVE Nick Emerson EMILIA P\\u00c9REZ Juliette Welfling WICKED Myron Kerstein A COMPLETE UNKNOWNScreenplay by James Mangold and Jay CocksCONCLAVE\\\\xa0**\\\\\\\\*\\\\\\\\*WINNER\\\\\\\\*\\\\\\\\*** Screenplay by Peter Straughan EMILIA P\\u00c9REZ Screenplay by Jacques Audiard; In collaboration with Thomas Bidegain, L\\u00e9a Mysius and Nicolas Livecchi NICKEL BOYS Screenplay by RaMell Ross & Joslyn Barnes SING SING Screenplay by Clint Bentley, Greg Kwedar; Story by Clint Bentley, Greg Kwedar, Clarence Maclin, John \\\"Divine G\\\" Whitfield', 'score': 0.79293, 'raw_content': None}, {'url': 'https://www.reddit.com/r/movies/comments/1j29pq0/2025_oscar_winners_anora_wins_best_picture/', 'title': \\\"2025 Oscar Winners: 'Anora' Wins Best Picture & Director ...\\\", 'content': \\\"BestInternationalFeatureFilm: I'm Still Here (Brazil). Best Cinematography: The Brutalist (Lol Crawley). Live-Action ShortFilm: I'm Not a\\\", 'score': 0.7407191, 'raw_content': None}], 'search_metadata': {'timestamp': '2025-10-07T13:24:44.607983', 'query': '2025 Oscar winner International Movie'}}\", tool_calls = None)\n",
      " -> (role = assistant, content = The winner of the 2025 Oscar for Best International Feature Film is Brazil's *I'm Still Here*. This film, directed by Walter Salles, is based on a true story set in 1970s Rio de Janeiro during the period of military dictatorship. The film stars Fernanda Torres, who was also nominated for her leading role in the movie. \n",
      "\n",
      "In addition to *I'm Still Here* winning in the international category, the film *Anora* took home the award for Best Picture at the same ceremony. Other notable winners included *The Brutalist* for Best Cinematography and Zoe Saldaña for her role in *Emilia Pérez*.\n",
      "\n",
      "For more details, you can check the sources from NPR [here](https://www.npr.org/2025/03/02/nx-s1-5315313/oscars-2025-im-still-here-brazil-best-international-feature) and BBC [here](https://www.bbc.com/news/articles/c1mngz9zreno)., tool_calls = None)\n",
      " -> (role = user, content = What are the most recent developments in AI technology?, tool_calls = None)\n",
      " -> (role = assistant, content = None, tool_calls = [ChatCompletionMessageFunctionToolCall(id='call_gOncghQCWWjLX5QTLSYeixNM', function=Function(arguments='{\"query\":\"latest developments in AI technology 2023\",\"search_depth\":\"advanced\"}', name='web_search'), type='function')])\n",
      " -> (role = tool, content = \"{'answer': 'In 2023, AI saw significant growth in generative AI, ethical AI, and the approval of numerous AI-enabled medical devices. Key innovations included Microsoft Copilot and advancements in natural language processing. The year marked a major breakthrough for generative AI tools.', 'results': [{'url': 'https://fullscale.io/blog/ai-development-trends-2023/', 'title': '6 Biggest AI Development Trends to Watch in 2023 - Full Scale', 'content': 'This has led to several breakthroughs in areas such as natural language processing and image recognition. AI is also being used to power a new generation of applications, including chatbots, autonomous vehicles, and predictive analytics.\\\\n\\\\nThe future of AI is bright, and the industry will only continue to grow. To stay ahead of the curve, you need to make sure that your software team is aware of the latest AI development trends. Let\\u2019s get started!\\\\n\\\\n### 1. Automated Machine Learning (AutoML) [...] Artificial intelligence is reaching new heights. Check out these awesome AI development trends for 2023 that will help you launch the most exciting software products.\\\\n\\\\nThe rise of artificial intelligence can be traced back to the early days of computing. Today, AI is experiencing another resurgence, thanks to the availability of big data and the rise of cloud computing. [...] In 2023, we can expect to see more Ethical AI that alleviates hesitancy and doubt surrounding technology. Ethical AI aims to regain the trust of users by explaining how system decisions are made and the factors considered to make those decisions. This will be done alongside reinforcing cybersecurity methods.', 'score': 0.85097736, 'raw_content': None}, {'url': 'https://www.mckinsey.com/capabilities/quantumblack/our-insights/the-state-of-ai-in-2023-generative-ais-breakout-year', 'title': \\\"The state of AI in 2023: Generative AI's breakout year | McKinsey\\\", 'content': 'The latest annual McKinsey Global Survey on the current state of AI confirms the explosive growth of generative AI (gen AI) tools.', 'score': 0.7216064, 'raw_content': None}, {'url': 'https://aimagazine.com/top10/top-10-innovations-of-2023', 'title': 'Top 10: Innovations of 2023 | AI Magazine', 'content': 'Top 10: Innovations of 2023 \\u00b7 10. Microsoft Copilot \\u00b7 9. Claude 2 \\u00b7 8. GPT-4 \\u00b7 7. Bard \\u00b7 6. IBM watsonx \\u00b7 5. Llama 2 \\u00b7 4. Duet AI \\u00b7 3. Adobe Firefly 2.', 'score': 0.66203266, 'raw_content': None}, {'url': 'https://www.weforum.org/stories/2023/12/technology-news-ai-metaverse-2023/', 'title': 'Technology and innovation: our 5 top stories from 2023', 'content': 'The innovation that probably comes to mind for 2023 would be artificial intelligence (AI). From regulation and governance to its impact on the world of work.', 'score': 0.6506676, 'raw_content': None}, {'url': 'https://hai.stanford.edu/ai-index/2025-ai-index-report', 'title': 'The 2025 AI Index Report | Stanford HAI', 'content': 'In 2023, the FDA approved 223 AI-enabled medical devices, up from just six in 2015. On the roads, self-driving cars are no longer experimental: Waymo, one of', 'score': 0.62906903, 'raw_content': None}], 'search_metadata': {'timestamp': '2025-10-07T13:25:32.478453', 'query': 'latest developments in AI technology 2023'}}\", tool_calls = None)\n",
      " -> (role = assistant, content = In 2023, the field of artificial intelligence (AI) experienced significant advancements and breakthroughs across various domains. Here are some of the most notable developments:\n",
      "\n",
      "1. **Generative AI**: This year marked a breakthrough for generative AI technologies. Tools like Microsoft Copilot, GPT-4, and Claude 2 gained prominence, transforming how users interact with AI for content creation, coding assistance, and more. Generative models have become more sophisticated, allowing for more realistic and contextually aware outputs across various applications.\n",
      "\n",
      "2. **Healthcare Innovations**: The FDA approved 223 AI-enabled medical devices in 2023, a dramatic increase from just six approvals in 2015. This indicates a growing trust in AI technologies to support healthcare providers and improve patient outcomes.\n",
      "\n",
      "3. **Natural Language Processing (NLP)**: Advances in NLP are making AI systems better at understanding and generating human language. This improvement is critical for applications like chatbots, virtual assistants, and customer service solutions.\n",
      "\n",
      "4. **Ethical AI**: There has been a push towards developing ethical AI frameworks that focus on transparency and accountability. This effort aims to build trust among users by clarifying how AI systems make decisions and what factors influence those decisions.\n",
      "\n",
      "5. **Automated Machine Learning (AutoML)**: The rise of AutoML tools is enabling developers to build AI models more efficiently without needing extensive expertise in machine learning. This democratizes access to AI technology, allowing a broader range of organizations to implement AI solutions.\n",
      "\n",
      "6. **Self-Driving Technology**: Self-driving cars are becoming increasingly viable, with companies like Waymo leading the way in deploying autonomous vehicles for commercial use.\n",
      "\n",
      "For further insights into these trends, you can refer to articles from McKinsey [here](https://www.mckinsey.com/capabilities/quantumblack/our-insights/the-state-of-ai-in-2023-generative-ais-breakout-year) and Full Scale [here](https://fullscale.io/blog/ai-development-trends-2023/)., tool_calls = None)\n"
     ]
    }
   ],
   "source": [
    "run2 = web_agent.invoke(\n",
    "    query=\"What are the most recent developments in AI technology?\", \n",
    ")\n",
    "print(\"\\nMessages from run 2:\")\n",
    "messages = run2.get_final_state()[\"messages\"]\n",
    "print_messages(messages)"
   ]
  },
  {
   "cell_type": "code",
   "execution_count": 18,
   "id": "59054976",
   "metadata": {},
   "outputs": [
    {
     "name": "stdout",
     "output_type": "stream",
     "text": [
      "In 2023, the field of artificial intelligence (AI) experienced significant advancements and breakthroughs across various domains. Here are some of the most notable developments:\n",
      "\n",
      "1. **Generative AI**: This year marked a breakthrough for generative AI technologies. Tools like Microsoft Copilot, GPT-4, and Claude 2 gained prominence, transforming how users interact with AI for content creation, coding assistance, and more. Generative models have become more sophisticated, allowing for more realistic and contextually aware outputs across various applications.\n",
      "\n",
      "2. **Healthcare Innovations**: The FDA approved 223 AI-enabled medical devices in 2023, a dramatic increase from just six approvals in 2015. This indicates a growing trust in AI technologies to support healthcare providers and improve patient outcomes.\n",
      "\n",
      "3. **Natural Language Processing (NLP)**: Advances in NLP are making AI systems better at understanding and generating human language. This improvement is critical for applications like chatbots, virtual assistants, and customer service solutions.\n",
      "\n",
      "4. **Ethical AI**: There has been a push towards developing ethical AI frameworks that focus on transparency and accountability. This effort aims to build trust among users by clarifying how AI systems make decisions and what factors influence those decisions.\n",
      "\n",
      "5. **Automated Machine Learning (AutoML)**: The rise of AutoML tools is enabling developers to build AI models more efficiently without needing extensive expertise in machine learning. This democratizes access to AI technology, allowing a broader range of organizations to implement AI solutions.\n",
      "\n",
      "6. **Self-Driving Technology**: Self-driving cars are becoming increasingly viable, with companies like Waymo leading the way in deploying autonomous vehicles for commercial use.\n",
      "\n",
      "For further insights into these trends, you can refer to articles from McKinsey [here](https://www.mckinsey.com/capabilities/quantumblack/our-insights/the-state-of-ai-in-2023-generative-ais-breakout-year) and Full Scale [here](https://fullscale.io/blog/ai-development-trends-2023/).\n"
     ]
    }
   ],
   "source": [
    "print(run2.get_final_state()[\"messages\"][-1].content)"
   ]
  },
  {
   "cell_type": "markdown",
   "id": "89e2055c",
   "metadata": {},
   "source": [
    "## Advanced"
   ]
  },
  {
   "cell_type": "markdown",
   "id": "5478d183",
   "metadata": {},
   "source": [
    "You can modify `agents.py` to include: \n",
    "- a comparison field in the state schema\n",
    "- a web search step\n",
    "- a comparison step in the workflow"
   ]
  }
 ],
 "metadata": {
  "kernelspec": {
   "display_name": ".venv",
   "language": "python",
   "name": "python3"
  },
  "language_info": {
   "codemirror_mode": {
    "name": "ipython",
    "version": 3
   },
   "file_extension": ".py",
   "mimetype": "text/x-python",
   "name": "python",
   "nbconvert_exporter": "python",
   "pygments_lexer": "ipython3",
   "version": "3.11.7"
  }
 },
 "nbformat": 4,
 "nbformat_minor": 5
}
