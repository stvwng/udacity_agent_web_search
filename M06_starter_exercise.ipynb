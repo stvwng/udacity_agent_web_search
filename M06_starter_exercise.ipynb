{
 "cells": [
  {
   "cell_type": "markdown",
   "id": "e3778898",
   "metadata": {},
   "source": [
    "# [STARTER] Exercise - Build a Web-Aware Agent with Search and Knowledge Comparison\n",
    "\n",
    "In this exercise, you'll build an agent that can search the web for current information and compare\n",
    "it with its internal knowledge. This demonstrates how to enhance an LLM's capabilities with real-time\n",
    "web data and how to critically analyze differences between sources.\n"
   ]
  },
  {
   "cell_type": "markdown",
   "id": "12e57bd8",
   "metadata": {},
   "source": [
    "## Challenge\n",
    "\n",
    "Your task is to create an agent that can:\n",
    "\n",
    "- Implement web search functionality using Tavily API\n",
    "- Parse and process search results effectively\n",
    "- Handle different types of queries (news, facts, events)\n",
    "- Extract relevant information from search results"
   ]
  },
  {
   "cell_type": "markdown",
   "id": "9fa44fc7",
   "metadata": {},
   "source": [
    "## Setup\n",
    "First, let's import the necessary libraries:"
   ]
  },
  {
   "cell_type": "code",
   "execution_count": null,
   "id": "08286c75",
   "metadata": {},
   "outputs": [],
   "source": [
    "import os\n",
    "from datetime import datetime\n",
    "from typing import List, Dict\n",
    "from dotenv import load_dotenv\n",
    "from tavily import TavilyClient\n",
    "\n",
    "from lib.agents import Agent\n",
    "from lib.messages import BaseMessage\n",
    "from lib.tooling import tool"
   ]
  },
  {
   "cell_type": "code",
   "execution_count": null,
   "id": "4002bf4c",
   "metadata": {},
   "outputs": [],
   "source": [
    "load_dotenv()"
   ]
  },
  {
   "cell_type": "markdown",
   "id": "97097944",
   "metadata": {},
   "source": [
    "## Play with Tavily"
   ]
  },
  {
   "cell_type": "code",
   "execution_count": null,
   "id": "969ea654",
   "metadata": {},
   "outputs": [],
   "source": [
    "api_key = os.getenv(\"TAVILY_API_KEY\")\n",
    "client = TavilyClient(api_key=api_key)"
   ]
  },
  {
   "cell_type": "code",
   "execution_count": null,
   "id": "0ef0dd71",
   "metadata": {},
   "outputs": [],
   "source": [
    "# [TODO] Define a query and run\n",
    "query = \"\"\n",
    "result = client.search(query)"
   ]
  },
  {
   "cell_type": "code",
   "execution_count": null,
   "id": "72354d62",
   "metadata": {},
   "outputs": [],
   "source": [
    "result"
   ]
  },
  {
   "cell_type": "markdown",
   "id": "b04a0de2",
   "metadata": {},
   "source": [
    "## Define Web Search tool"
   ]
  },
  {
   "cell_type": "code",
   "execution_count": null,
   "id": "10a41cb2",
   "metadata": {},
   "outputs": [],
   "source": [
    "# [TODO] Define the search tool\n",
    "@tool\n",
    "def web_search(query: str) -> Dict:\n",
    "    return "
   ]
  },
  {
   "cell_type": "code",
   "execution_count": null,
   "id": "9f67b873",
   "metadata": {},
   "outputs": [],
   "source": [
    "tools = [web_search]"
   ]
  },
  {
   "cell_type": "markdown",
   "id": "29d998d2",
   "metadata": {},
   "source": [
    "## Define Agents"
   ]
  },
  {
   "cell_type": "markdown",
   "id": "aa26baa4",
   "metadata": {},
   "source": [
    "The first agent should not use tools, just its own knowledge. The second one should have web search tool enabled."
   ]
  },
  {
   "cell_type": "code",
   "execution_count": null,
   "id": "a8e4b392",
   "metadata": {},
   "outputs": [],
   "source": [
    "# [TODO] Agent with no tools\n",
    "simple_agent = Agent()"
   ]
  },
  {
   "cell_type": "code",
   "execution_count": null,
   "id": "c7ff665d",
   "metadata": {},
   "outputs": [],
   "source": [
    "# [TODO] Agent with web search tool\n",
    "web_agent = Agent()"
   ]
  },
  {
   "cell_type": "code",
   "execution_count": null,
   "id": "c74d8aef",
   "metadata": {},
   "outputs": [],
   "source": [
    "def print_messages(messages: List[BaseMessage]):\n",
    "    for m in messages:\n",
    "        print(f\" -> (role = {m.role}, content = {m.content}, tool_calls = {getattr(m, 'tool_calls', None)})\")"
   ]
  },
  {
   "cell_type": "markdown",
   "id": "bf6168f5",
   "metadata": {},
   "source": [
    "## Run your Agents"
   ]
  },
  {
   "cell_type": "markdown",
   "id": "00d41b25",
   "metadata": {},
   "source": [
    "Run the Agents and compare them. The following queries are just for reference. Change them as you want."
   ]
  },
  {
   "cell_type": "markdown",
   "id": "e41026a0",
   "metadata": {},
   "source": [
    "**Simple Agent**\n",
    "\n",
    "**Note**: This example relies on the date being recent enough that the answer will not be in the model's training data. Try with other current events/dates if needed to get similar results."
   ]
  },
  {
   "cell_type": "code",
   "execution_count": null,
   "id": "647e7987",
   "metadata": {},
   "outputs": [],
   "source": [
    "run1 = simple_agent.invoke(\n",
    "    query=\"Who won the 2025 Oscar for International Movie?\", \n",
    ")\n",
    "\n",
    "print(\"\\nMessages from run 1:\")\n",
    "messages = run1.get_final_state()[\"messages\"]\n",
    "print_messages(messages)"
   ]
  },
  {
   "cell_type": "code",
   "execution_count": null,
   "id": "14dd2e35",
   "metadata": {},
   "outputs": [],
   "source": [
    "print(run1.get_final_state()[\"messages\"][-1].content)"
   ]
  },
  {
   "cell_type": "code",
   "execution_count": null,
   "id": "a057ad60",
   "metadata": {},
   "outputs": [],
   "source": [
    "run2 = simple_agent.invoke(\n",
    "    query=\"What are the most recent developments in AI technology?\", \n",
    ")\n",
    "print(\"\\nMessages from run 2:\")\n",
    "messages = run2.get_final_state()[\"messages\"]\n",
    "print_messages(messages)"
   ]
  },
  {
   "cell_type": "code",
   "execution_count": null,
   "id": "c781d4b1",
   "metadata": {},
   "outputs": [],
   "source": [
    "print(run2.get_final_state()[\"messages\"][-1].content)"
   ]
  },
  {
   "cell_type": "markdown",
   "id": "237903c7",
   "metadata": {},
   "source": [
    "**Web Agent**"
   ]
  },
  {
   "cell_type": "code",
   "execution_count": null,
   "id": "89c9238c",
   "metadata": {},
   "outputs": [],
   "source": [
    "run1 = web_agent.invoke(\n",
    "    query=\"Who won the 2025 Oscar for International Movie?\", \n",
    ")\n",
    "\n",
    "print(\"\\nMessages from run 1:\")\n",
    "messages = run1.get_final_state()[\"messages\"]\n",
    "print_messages(messages)"
   ]
  },
  {
   "cell_type": "code",
   "execution_count": null,
   "id": "cf73be45",
   "metadata": {},
   "outputs": [],
   "source": [
    "print(run1.get_final_state()[\"messages\"][-1].content)"
   ]
  },
  {
   "cell_type": "code",
   "execution_count": null,
   "id": "65e6b006",
   "metadata": {},
   "outputs": [],
   "source": [
    "run2 = web_agent.invoke(\n",
    "    query=\"What are the most recent developments in AI technology?\", \n",
    ")\n",
    "print(\"\\nMessages from run 2:\")\n",
    "messages = run2.get_final_state()[\"messages\"]\n",
    "print_messages(messages)"
   ]
  },
  {
   "cell_type": "code",
   "execution_count": null,
   "id": "59054976",
   "metadata": {},
   "outputs": [],
   "source": [
    "print(run2.get_final_state()[\"messages\"][-1].content)"
   ]
  },
  {
   "cell_type": "markdown",
   "id": "89e2055c",
   "metadata": {},
   "source": [
    "## Advanced"
   ]
  },
  {
   "cell_type": "markdown",
   "id": "5478d183",
   "metadata": {},
   "source": [
    "You can modify `agents.py` to include: \n",
    "- a comparison field in the state schema\n",
    "- a web search step\n",
    "- a comparison step in the workflow"
   ]
  }
 ],
 "metadata": {
  "kernelspec": {
   "display_name": ".venv",
   "language": "python",
   "name": "python3"
  },
  "language_info": {
   "codemirror_mode": {
    "name": "ipython",
    "version": 3
   },
   "file_extension": ".py",
   "mimetype": "text/x-python",
   "name": "python",
   "nbconvert_exporter": "python",
   "pygments_lexer": "ipython3",
   "version": "3.11.10"
  }
 },
 "nbformat": 4,
 "nbformat_minor": 5
}
