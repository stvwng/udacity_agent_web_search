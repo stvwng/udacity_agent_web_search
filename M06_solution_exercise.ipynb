{
 "cells": [
  {
   "cell_type": "markdown",
   "id": "e3778898",
   "metadata": {},
   "source": [
    "# [SOLUTION] Exercise - Build a Web-Aware Agent with Search and Knowledge Comparison\n",
    "\n",
    "In this exercise, you'll build an agent that can search the web for current information and compare\n",
    "it with its internal knowledge. This demonstrates how to enhance an LLM's capabilities with real-time\n",
    "web data and how to critically analyze differences between sources.\n"
   ]
  },
  {
   "cell_type": "markdown",
   "id": "12e57bd8",
   "metadata": {},
   "source": [
    "## Challenge\n",
    "\n",
    "Your task is to create an agent that can:\n",
    "\n",
    "- Implement web search functionality using Tavily API\n",
    "- Parse and process search results effectively\n",
    "- Handle different types of queries (news, facts, events)\n",
    "- Extract relevant information from search results"
   ]
  },
  {
   "cell_type": "markdown",
   "id": "9fa44fc7",
   "metadata": {},
   "source": [
    "## Setup\n",
    "First, let's import the necessary libraries:"
   ]
  },
  {
   "cell_type": "code",
   "execution_count": 1,
   "id": "08286c75",
   "metadata": {},
   "outputs": [],
   "source": [
    "import os\n",
    "from datetime import datetime\n",
    "from typing import List, Dict\n",
    "from dotenv import load_dotenv\n",
    "from tavily import TavilyClient\n",
    "\n",
    "from lib.agents import Agent\n",
    "from lib.messages import BaseMessage\n",
    "from lib.tooling import tool"
   ]
  },
  {
   "cell_type": "code",
   "execution_count": 2,
   "id": "4002bf4c",
   "metadata": {},
   "outputs": [
    {
     "data": {
      "text/plain": [
       "True"
      ]
     },
     "execution_count": 2,
     "metadata": {},
     "output_type": "execute_result"
    }
   ],
   "source": [
    "load_dotenv()"
   ]
  },
  {
   "cell_type": "markdown",
   "id": "97097944",
   "metadata": {},
   "source": [
    "## Play with Tavily"
   ]
  },
  {
   "cell_type": "code",
   "execution_count": null,
   "id": "969ea654",
   "metadata": {},
   "outputs": [],
   "source": [
    "api_key = os.getenv(\"TAVILY_API_KEY\")\n",
    "client = TavilyClient(api_key=api_key)"
   ]
  },
  {
   "cell_type": "code",
   "execution_count": null,
   "id": "0ef0dd71",
   "metadata": {},
   "outputs": [],
   "source": [
    "result = client.search(\"What's Nintendo?\")"
   ]
  },
  {
   "cell_type": "code",
   "execution_count": 4,
   "id": "72354d62",
   "metadata": {},
   "outputs": [
    {
     "data": {
      "text/plain": [
       "{'query': \"What's Nintendo?\",\n",
       " 'follow_up_questions': None,\n",
       " 'answer': None,\n",
       " 'images': [],\n",
       " 'results': [{'title': 'The Extraordinary and Surprising History of Nintendo',\n",
       "   'url': 'https://interestingengineering.com/culture/the-extraordinary-and-surprising-history-of-nintendo',\n",
       "   'content': \"Nintendo is a giant in the world of gaming, but it didn't always make toys and computer games.\",\n",
       "   'score': 0.70944256,\n",
       "   'raw_content': None},\n",
       "  {'title': 'Nintendo - Wikipedia',\n",
       "   'url': 'https://en.wikipedia.org/wiki/Nintendo',\n",
       "   'content': \"The company entered into a partnership with Walt Disney Productions to incorporate its characters into playing cards, which opened it up to the children's market and resulted in a boost to Nintendo's playing card business.[2][3][26] Nintendo automated the production of Japanese playing cards using backing paper, and also developed a distribution system that allowed it to offer its products in toy stores.[2][21] By 1961, the company had established a Tokyo branch in Chiyoda, Tokyo,[2] and sold more than 1.5 million card packs, holding a high market share, for which it relied on televised advertising campaigns.[29] In 1962, Nintendo became a public company by listing stock on the second section of the Osaka Securities Exchange and the Kyoto Stock Exchange.[2][3] In the following year, the company adopted its current name, Nintendo & Co., Ltd.[i] and started manufacturing games in addition to playing cards.[2][3]\",\n",
       "   'score': 0.62248284,\n",
       "   'raw_content': None},\n",
       "  {'title': 'Nintendo - about us',\n",
       "   'url': 'https://www.nintendo.com/us/about/',\n",
       "   'content': \"Nintendo - about us Nintendo Nintendo Switch 2 games Nintendo Switch 2 games Nintendo Nintendo of America, established in 1980 and based in Redmond, Wash., is a wholly owned subsidiary of Nintendo Co., Ltd. We are committed to delivering best-in-class products and services to our customers and to investing in the well-being of our employees as part of the global Nintendo family. Nintendo introduced Game Boy Color™. Launched the Game Boy™ Advance and the Nintendo GameCube™ systems. Launched the Nintendo DS™, an innovative, dual-screen handheld gaming system. If you have questions about the accessibility features of Nintendo's products or services, please contact us using one of the methods below. About Nintendo These cookies are necessary for the websites or services to function and cannot be switched off in our systems.\",\n",
       "   'score': 0.57723385,\n",
       "   'raw_content': None},\n",
       "  {'title': 'Corporate - Nintendo of America Press Center',\n",
       "   'url': 'https://press.nintendo.com/AboutUs',\n",
       "   'content': 'Corporate - Nintendo of America Press Center Nintendo Switch Nintendo Switch 2 Nintendo Switch About Nintendo Nintendo aims to deliver unique, intuitive entertainment experiences for everyone, manufacturing and marketing video game devices such as the Nintendo Switch™ family of systems, developing and operating applications for smart devices, and collaborating with partners on a range of other entertainment initiatives like visual content and theme parks. Nintendo has sold more than 5.6 billion video\\xa0 games and over 800\\xa0 million hardware units globally. Nintendo defines Corporate Social Responsibility as \"Putting Smiles on the Faces of Everyone Nintendo Touches.\" Nintendo of America, working closely with our parent company, Nintendo Co., Ltd., strives to embody this definition in our business activities and interactions with all of our stakeholders.',\n",
       "   'score': 0.49992734,\n",
       "   'raw_content': None},\n",
       "  {'title': 'The Fascinating History Of Nintendo - SlashGear',\n",
       "   'url': 'https://www.slashgear.com/862997/the-fascinating-history-of-nintendo/',\n",
       "   'content': \"Yes, we all know Nintendo as one of the purveyors of the gaming era, but what is not as well known is that despite a ban on gambling, the company was actually started in order to make handmade Japanese playing cards, or Hanafuda, over a hundred and thirty years ago!!! In 1988, Gunpei Yokoi and his team at Nintendo R&D1 had a genius idea of merging the two very successful concepts of the Game & Watch's portability with the NES' cartridge interchangeability and conceived the new Game Boy handheld system (via Companies History). From having a dedicated theme park (Super Nintendo World) to releasing one of the most popular gaming systems on the planet AGAIN, the last few years have been a smashing success for the company which started out selling playing cards.\",\n",
       "   'score': 0.46905875,\n",
       "   'raw_content': None}],\n",
       " 'response_time': 1.08}"
      ]
     },
     "execution_count": 4,
     "metadata": {},
     "output_type": "execute_result"
    }
   ],
   "source": [
    "result"
   ]
  },
  {
   "cell_type": "markdown",
   "id": "b04a0de2",
   "metadata": {},
   "source": [
    "## Define Web Search tool"
   ]
  },
  {
   "cell_type": "code",
   "execution_count": 5,
   "id": "10a41cb2",
   "metadata": {},
   "outputs": [],
   "source": [
    "@tool\n",
    "def web_search(query: str, search_depth: str = \"advanced\") -> Dict:\n",
    "    \"\"\"\n",
    "    Search the web using Tavily API\n",
    "    args:\n",
    "        query (str): Search query\n",
    "        search_depth (str): Type of search - 'basic' or 'advanced' (default: advanced)\n",
    "    \"\"\"\n",
    "    api_key = os.getenv(\"TAVILY_API_KEY\")\n",
    "    client = TavilyClient(api_key=api_key)\n",
    "    \n",
    "    # Perform the search\n",
    "    search_result = client.search(\n",
    "        query=query,\n",
    "        search_depth=search_depth,\n",
    "        include_answer=True,\n",
    "        include_raw_content=False,\n",
    "        include_images=False\n",
    "    )\n",
    "    \n",
    "    # Format the results\n",
    "    formatted_results = {\n",
    "        \"answer\": search_result.get(\"answer\", \"\"),\n",
    "        \"results\": search_result.get(\"results\", []),\n",
    "        \"search_metadata\": {\n",
    "            \"timestamp\": datetime.now().isoformat(),\n",
    "            \"query\": query\n",
    "        }\n",
    "    }\n",
    "    \n",
    "    return formatted_results"
   ]
  },
  {
   "cell_type": "code",
   "execution_count": 6,
   "id": "9f67b873",
   "metadata": {},
   "outputs": [],
   "source": [
    "tools = [web_search]"
   ]
  },
  {
   "cell_type": "code",
   "execution_count": 7,
   "id": "a8e4b392",
   "metadata": {},
   "outputs": [],
   "source": [
    "simple_agent = Agent(\n",
    "    model_name=\"gpt-4o-mini\",\n",
    "    instructions=(\"You are a helpful assistant\"),\n",
    ")"
   ]
  },
  {
   "cell_type": "code",
   "execution_count": 8,
   "id": "c7ff665d",
   "metadata": {},
   "outputs": [],
   "source": [
    "web_agent = Agent(\n",
    "    model_name=\"gpt-4o-mini\",\n",
    "    instructions=(\n",
    "            \"You are a web-aware assistant that can search for update information \"\n",
    "            \"For each query, you will search the web for current information using \" \n",
    "            \"Tavily's AI-optimized search and provide a comprehensive answer\\n\"\n",
    "            \"Always cite your sources and explain any discrepancies found.\\n\"\n",
    "            \"Be particularly attentive to dates and time-sensitive information.\"\n",
    "    ),\n",
    "    tools=tools\n",
    ")"
   ]
  },
  {
   "cell_type": "code",
   "execution_count": 9,
   "id": "c74d8aef",
   "metadata": {},
   "outputs": [],
   "source": [
    "def print_messages(messages: List[BaseMessage]):\n",
    "    for m in messages:\n",
    "        print(f\" -> (role = {m.role}, content = {m.content}, tool_calls = {getattr(m, 'tool_calls', None)})\")"
   ]
  },
  {
   "cell_type": "markdown",
   "id": "bf6168f5",
   "metadata": {},
   "source": [
    "## Run your Agents"
   ]
  },
  {
   "cell_type": "markdown",
   "id": "e41026a0",
   "metadata": {},
   "source": [
    "**Simple Agent**\n",
    "\n",
    "**Note**: This example relies on the date being recent enough that the answer will not be in the model's training data. Try with other current events/dates if needed to get similar results."
   ]
  },
  {
   "cell_type": "code",
   "execution_count": 10,
   "id": "647e7987",
   "metadata": {},
   "outputs": [
    {
     "name": "stdout",
     "output_type": "stream",
     "text": [
      "[StateMachine] Starting: __entry__\n",
      "[StateMachine] Executing step: message_prep\n",
      "[StateMachine] Executing step: llm_processor\n",
      "[StateMachine] Terminating: __termination__\n",
      "\n",
      "Messages from run 1:\n",
      " -> (role = system, content = You are a helpful assistant, tool_calls = None)\n",
      " -> (role = user, content = Who won the 2025 Oscar for International Movie?, tool_calls = None)\n",
      " -> (role = assistant, content = I'm sorry, but I don't have information on events or outcomes beyond October 2023, so I cannot provide details about the 2025 Oscars or the winner of the International Movie category. You may want to check the latest news sources or the official Oscars website for the most up-to-date information., tool_calls = None)\n"
     ]
    }
   ],
   "source": [
    "run1 = simple_agent.invoke(\n",
    "    query=\"Who won the 2025 Oscar for International Movie?\", \n",
    ")\n",
    "\n",
    "print(\"\\nMessages from run 1:\")\n",
    "messages = run1.get_final_state()[\"messages\"]\n",
    "print_messages(messages)"
   ]
  },
  {
   "cell_type": "code",
   "execution_count": 11,
   "id": "14dd2e35",
   "metadata": {},
   "outputs": [
    {
     "name": "stdout",
     "output_type": "stream",
     "text": [
      "I'm sorry, but I don't have information on events or outcomes beyond October 2023, so I cannot provide details about the 2025 Oscars or the winner of the International Movie category. You may want to check the latest news sources or the official Oscars website for the most up-to-date information.\n"
     ]
    }
   ],
   "source": [
    "print(run1.get_final_state()[\"messages\"][-1].content)"
   ]
  },
  {
   "cell_type": "code",
   "execution_count": 12,
   "id": "a057ad60",
   "metadata": {},
   "outputs": [
    {
     "name": "stdout",
     "output_type": "stream",
     "text": [
      "[StateMachine] Starting: __entry__\n",
      "[StateMachine] Executing step: message_prep\n",
      "[StateMachine] Executing step: llm_processor\n",
      "[StateMachine] Terminating: __termination__\n",
      "\n",
      "Messages from run 2:\n",
      " -> (role = system, content = You are a helpful assistant, tool_calls = None)\n",
      " -> (role = user, content = Who won the 2025 Oscar for International Movie?, tool_calls = None)\n",
      " -> (role = assistant, content = I'm sorry, but I don't have information on events or outcomes beyond October 2023, so I cannot provide details about the 2025 Oscars or the winner of the International Movie category. You may want to check the latest news sources or the official Oscars website for the most up-to-date information., tool_calls = None)\n",
      " -> (role = user, content = What are the most recent developments in AI technology?, tool_calls = None)\n",
      " -> (role = assistant, content = As of my last knowledge update in October 2023, several key developments in AI technology were notable:\n",
      "\n",
      "1. **Generative AI Advancements**: Generative models, especially in natural language processing (NLP) and computer vision, continued to evolve. Models like GPT-4 and its successors demonstrated improvements in understanding and generating human-like text, with applications in creative writing, coding, and customer service.\n",
      "\n",
      "2. **AI in Healthcare**: AI applications in healthcare saw significant progress, including improved diagnostic tools using machine learning for early detection of diseases like cancer and advancements in personalized medicine through genetic data analysis.\n",
      "\n",
      "3. **AI Ethics and Regulation**: There was an increasing focus on ethical AI and the need for regulations to govern AI development and usage. Discussions around transparency, bias, and the societal impact of AI technologies gained prominence, with various governments and organizations working on frameworks for responsible AI deployment.\n",
      "\n",
      "4. **Multimodal Models**: AI systems that can process and integrate multiple types of data (text, images, audio) became more sophisticated. These models enhanced applications in areas such as virtual assistants, content creation, and more interactive AI experiences.\n",
      "\n",
      "5. **AI in Creative Industries**: AI tools for art, music, and video generation became more widely adopted, allowing creators to leverage AI for inspiration and as a collaborative tool.\n",
      "\n",
      "6. **AI Hardware Innovations**: There was ongoing development in specialized hardware to support AI workloads, including advancements in GPUs and custom accelerators, which improved the efficiency and speed of AI training and inference.\n",
      "\n",
      "7. **AI for Climate Change**: AI technologies were increasingly applied to address climate change, optimizing energy use, predicting environmental changes, and aiding in conservation efforts.\n",
      "\n",
      "For the latest developments beyond October 2023, I recommend checking reputable tech news websites and academic journals that cover advancements in AI., tool_calls = None)\n"
     ]
    }
   ],
   "source": [
    "run2 = simple_agent.invoke(\n",
    "    query=\"What are the most recent developments in AI technology?\", \n",
    ")\n",
    "print(\"\\nMessages from run 2:\")\n",
    "messages = run2.get_final_state()[\"messages\"]\n",
    "print_messages(messages)"
   ]
  },
  {
   "cell_type": "code",
   "execution_count": 13,
   "id": "c781d4b1",
   "metadata": {},
   "outputs": [
    {
     "name": "stdout",
     "output_type": "stream",
     "text": [
      "As of my last knowledge update in October 2023, several key developments in AI technology were notable:\n",
      "\n",
      "1. **Generative AI Advancements**: Generative models, especially in natural language processing (NLP) and computer vision, continued to evolve. Models like GPT-4 and its successors demonstrated improvements in understanding and generating human-like text, with applications in creative writing, coding, and customer service.\n",
      "\n",
      "2. **AI in Healthcare**: AI applications in healthcare saw significant progress, including improved diagnostic tools using machine learning for early detection of diseases like cancer and advancements in personalized medicine through genetic data analysis.\n",
      "\n",
      "3. **AI Ethics and Regulation**: There was an increasing focus on ethical AI and the need for regulations to govern AI development and usage. Discussions around transparency, bias, and the societal impact of AI technologies gained prominence, with various governments and organizations working on frameworks for responsible AI deployment.\n",
      "\n",
      "4. **Multimodal Models**: AI systems that can process and integrate multiple types of data (text, images, audio) became more sophisticated. These models enhanced applications in areas such as virtual assistants, content creation, and more interactive AI experiences.\n",
      "\n",
      "5. **AI in Creative Industries**: AI tools for art, music, and video generation became more widely adopted, allowing creators to leverage AI for inspiration and as a collaborative tool.\n",
      "\n",
      "6. **AI Hardware Innovations**: There was ongoing development in specialized hardware to support AI workloads, including advancements in GPUs and custom accelerators, which improved the efficiency and speed of AI training and inference.\n",
      "\n",
      "7. **AI for Climate Change**: AI technologies were increasingly applied to address climate change, optimizing energy use, predicting environmental changes, and aiding in conservation efforts.\n",
      "\n",
      "For the latest developments beyond October 2023, I recommend checking reputable tech news websites and academic journals that cover advancements in AI.\n"
     ]
    }
   ],
   "source": [
    "print(run2.get_final_state()[\"messages\"][-1].content)"
   ]
  },
  {
   "cell_type": "markdown",
   "id": "237903c7",
   "metadata": {},
   "source": [
    "**Web Agent**"
   ]
  },
  {
   "cell_type": "code",
   "execution_count": 14,
   "id": "89c9238c",
   "metadata": {},
   "outputs": [
    {
     "name": "stdout",
     "output_type": "stream",
     "text": [
      "[StateMachine] Starting: __entry__\n",
      "[StateMachine] Executing step: message_prep\n",
      "[StateMachine] Executing step: llm_processor\n",
      "[StateMachine] Executing step: tool_executor\n",
      "[StateMachine] Executing step: llm_processor\n",
      "[StateMachine] Terminating: __termination__\n",
      "\n",
      "Messages from run 1:\n",
      " -> (role = system, content = You are a web-aware assistant that can search for update information For each query, you will search the web for current information using Tavily's AI-optimized search and provide a comprehensive answer\n",
      "Always cite your sources and explain any discrepancies found.\n",
      "Be particularly attentive to dates and time-sensitive information., tool_calls = None)\n",
      " -> (role = user, content = Who won the 2025 Oscar for International Movie?, tool_calls = None)\n",
      " -> (role = assistant, content = None, tool_calls = [ChatCompletionMessageToolCall(id='call_qzAPaG8fyOwkDFkY6ZdJlYkq', function=Function(arguments='{\"query\":\"2025 Oscar winner for Best International Feature Film\",\"search_depth\":\"advanced\"}', name='web_search'), type='function')])\n",
      " -> (role = tool, content = {\"answer\": \"The 2025 Oscar winner for Best International Feature Film is \\\"I'm Still Here\\\" from Brazil. It won the award at the 97th Academy Awards.\", \"results\": [{\"url\": \"https://www.hollywoodreporter.com/lists/oscars-2025-winners-list/\", \"title\": \"Oscar 2025 Winners: The Full List - The Hollywood Reporter\", \"content\": \"Meanwhile, Flow won the award for best animated feature, marking the first-ever win for Latvia. No Other Land was named best documentary feature. I\\u2019m Still Here was named best international feature film, marking Brazil\\u2019s first Oscar win.\\nPeter Straughan won the award for best adapted screenplay for Conclave.\\nPaul Tazewell became the first Black man to win the Oscar for best costume design, for his work on Wicked. The musical movie also won best production design. [...] Anora was named best picture at the 2025 Oscars, which were handed out Sunday night.\\nAnora was the top winner of the night, earning a total of five awards. Star Mikey Madison was named best actress, while Sean Baker won a record-breaking four awards for his film: best director, best original screenplay and best film editing (in addition to best picture). [...] Documentary Short Film\\n    ----------------------\\n\\nImage Credit: Kevin Winter/Getty Images\\nDeath by Numbers (Kim A. Snyder and Janique L. Robillard)I Am Ready, Warden (Smriti Mundhra and Maya Gnyp)\\nIncident (Bill Morrison and Jamie Kalven)\\nInstruments of a Beating Heart (Ema Ryan Yamazaki and Eric Nyari)\\nThe Only Girl in the Orchestra (Molly O\\u2019Brien and Lisa Remington) (WINNER)\\n\\n\\nInternational Feature Film\\n    --------------------------\", \"score\": 0.9202254, \"raw_content\": null}, {\"url\": \"https://www.npr.org/2025/03/02/nx-s1-5315313/oscars-2025-im-still-here-brazil-best-international-feature\", \"title\": \"Oscars 2025: Brazil's 'I'm Still Here' wins best international feature\", \"content\": \"Oscars 2025\\nOscars 2025: The complete list of winners [...] Oscars 2025: Brazil\\u2019s \\u2018I\\u2019m Still Here\\u2019 wins best international feature The film is based on a true story set in 1970s Rio de Janeiro, when Brazil was living under a military dictatorship.\\n Special Series Oscars 2025 ----------- News, reviews, interviews and features about Hollywood's biggest night\\nBrazil's 'I'm Still Here' wins best international feature at the Oscars\\nMarch 2, 202510:27 PM ET\\n\\nMandalit del Barco [...] Published Time: 2025-03-02T22:27:09-05:00\\nOscars 2025: Brazil\\u2019s \\u2018I\\u2019m Still Here\\u2019 wins best international feature : NPR\\nAccessibility links\\n\\nSkip to main content\\n\\nKeyboard shortcuts for audio player\\n\\n\\nOpen Navigation Menu\\n\\n\\n\\n\\n\\nNewsletters\\n\\n\\nNPR Shop\\n\\n\\nClose Navigation Menu\\n\\n\\nHome\\n\\n\\nNews Expand/collapse submenu for News\\n\\nNational\\nWorld\\nPolitics\\nBusiness\\nHealth\\nScience\\nClimate\\nRace\\n\\nCulture Expand/collapse submenu for Culture\\n\\n\\nBooks\", \"score\": 0.9163571, \"raw_content\": null}, {\"url\": \"https://people.com/oscars-2025-im-still-here-brazil-best-international-feature-11684447\", \"title\": \"Oscars 2025: 'I'm Still Here' Wins Best International Feature\", \"content\": \"Brazil's 'I'm Still Here' won the Best International Feature award at the Academy Awards on Sunday, March 2; other nominees included 'Emilia\", \"score\": 0.9121316, \"raw_content\": null}, {\"url\": \"https://www.opb.org/article/2025/03/03/oscars-winners-2025-list/\", \"title\": \"The complete list of 2025 Oscars winners - OPB\", \"content\": \"WINNER: Flow\\n\\nInside Out 2\\n\\nMemoir of a Snail\\n\\nWallace & Gromit: Vengeance Most Fowl\\n\\nThe Wild Robot\\n\\nBest international feature film\\n\\nWINNER: I\\u2019m Still Here, Brazil\\n\\nThe Girl with the Needle, Denmark\\n\\nEmilia P\\u00e9rez, France\\n\\nThe Seed of the Sacred Fig, Germany\\n\\nFlow, Latvia\\n\\nBest documentary feature film\\n\\nWINNER: No Other Land\\n\\nBlack Box Diaries\\n\\nPorcelain War\\n\\nSoundtrack to a Coup d\\u2019Etat\\n\\nSugarcane\\n\\nOriginal Score\\n\\nWINNER: The Brutalist, Daniel Blumberg\\n\\nConclave, Volker Bertelmann [...] The complete list of 2025 Oscars winners\\n\\nAdrien Brody, left, winner of the best actor award for <em>The Brutalist</em>, Mikey Madison, winner of the best actress award for <em>Anora</em>, Zoe Salda\\u00f1a winner of the best actress in a supporting role award for <em>Emilia P\\u00e9rez</em>, and Kieran Culkin winner of the best actor in a supporting role award for <em>A Real Pain</em>, pose in the press room during the 97th Academy Awards.\\n\\nMaya Dehlin Spach / Getty Images [...] The ceremony aired on ABC and streamed on Hulu. Hosted by Conan O\\u2019Brien, the Oscars took place in the aftermath of devastating Los Angeles wildfires. You can read our takeaways here and check out our red carpet coverage here.\\n\\nBelow is the full list of 2025 Academy Award winners and nominees.\\n\\nBest picture\\n\\nWINNER: Anora\\n\\nThe Brutalist\\n\\nA Complete Unknown\\n\\nConclave\\n\\nDune: Part Two\\n\\nEmilia P\\u00e9rez\\n\\nI\\u2019m Still Here\\n\\nNickel Boys\\n\\nThe Substance\\n\\nWicked\\n\\nAchievement in directing\", \"score\": 0.89279664, \"raw_content\": null}, {\"url\": \"https://abc.com/news/8d96bb37-bd59-4c28-a470-46f244f63b3b/category/3590742\", \"title\": \"Oscars 2025 Winners: Full List of the 97th Academy Awards Winners!\", \"content\": \"International Feature Film\\nI'M STILL HERE\\u00a0\\u00a0**WINNER**\\nBrazil  \\nTHE GIRL WITH THE NEEDLE\\nDenmark  \\nEMILIA P\\u00c9REZ\\nFrance  \\nTHE SEED OF THE SACRED FIG\\nGermany  \\nFLOW\\nLatvia\", \"score\": 0.8724455, \"raw_content\": null}], \"search_metadata\": {\"timestamp\": \"2025-05-29T09:05:15.421534\", \"query\": \"2025 Oscar winner for Best International Feature Film\"}}, tool_calls = None)\n",
      " -> (role = assistant, content = The 2025 Oscar for Best International Feature Film was awarded to **\"I'm Still Here,\"** a film from Brazil. This win marked Brazil's first Oscar in this category. The award was presented during the 97th Academy Awards held on March 2, 2025. \n",
      "\n",
      "Other nominees for this category included:\n",
      "- \"The Girl with the Needle\" (Denmark)\n",
      "- \"Emilia Pérez\" (France)\n",
      "- \"The Seed of the Sacred Fig\" (Germany)\n",
      "- \"Flow\" (Latvia)\n",
      "\n",
      "\"I'm Still Here\" is based on a true story set in 1970s Rio de Janeiro during Brazil's military dictatorship, showcasing the struggle for freedom and identity during this tumultuous period ([The Hollywood Reporter](https://www.hollywoodreporter.com/lists/oscars-2025-winners-list/), [NPR](https://www.npr.org/2025/03/02/nx-s1-5315313/oscars-2025-im-still-here-brazil-best-international-feature), [People](https://people.com/oscars-2025-im-still-here-brazil-best-international-feature-11684447))., tool_calls = None)\n"
     ]
    }
   ],
   "source": [
    "run1 = web_agent.invoke(\n",
    "    query=\"Who won the 2025 Oscar for International Movie?\", \n",
    ")\n",
    "\n",
    "print(\"\\nMessages from run 1:\")\n",
    "messages = run1.get_final_state()[\"messages\"]\n",
    "print_messages(messages)"
   ]
  },
  {
   "cell_type": "code",
   "execution_count": 15,
   "id": "cf73be45",
   "metadata": {},
   "outputs": [
    {
     "name": "stdout",
     "output_type": "stream",
     "text": [
      "The 2025 Oscar for Best International Feature Film was awarded to **\"I'm Still Here,\"** a film from Brazil. This win marked Brazil's first Oscar in this category. The award was presented during the 97th Academy Awards held on March 2, 2025. \n",
      "\n",
      "Other nominees for this category included:\n",
      "- \"The Girl with the Needle\" (Denmark)\n",
      "- \"Emilia Pérez\" (France)\n",
      "- \"The Seed of the Sacred Fig\" (Germany)\n",
      "- \"Flow\" (Latvia)\n",
      "\n",
      "\"I'm Still Here\" is based on a true story set in 1970s Rio de Janeiro during Brazil's military dictatorship, showcasing the struggle for freedom and identity during this tumultuous period ([The Hollywood Reporter](https://www.hollywoodreporter.com/lists/oscars-2025-winners-list/), [NPR](https://www.npr.org/2025/03/02/nx-s1-5315313/oscars-2025-im-still-here-brazil-best-international-feature), [People](https://people.com/oscars-2025-im-still-here-brazil-best-international-feature-11684447)).\n"
     ]
    }
   ],
   "source": [
    "print(run1.get_final_state()[\"messages\"][-1].content)"
   ]
  },
  {
   "cell_type": "code",
   "execution_count": 16,
   "id": "65e6b006",
   "metadata": {},
   "outputs": [
    {
     "name": "stdout",
     "output_type": "stream",
     "text": [
      "[StateMachine] Starting: __entry__\n",
      "[StateMachine] Executing step: message_prep\n",
      "[StateMachine] Executing step: llm_processor\n",
      "[StateMachine] Executing step: tool_executor\n",
      "[StateMachine] Executing step: llm_processor\n",
      "[StateMachine] Terminating: __termination__\n",
      "\n",
      "Messages from run 2:\n",
      " -> (role = system, content = You are a web-aware assistant that can search for update information For each query, you will search the web for current information using Tavily's AI-optimized search and provide a comprehensive answer\n",
      "Always cite your sources and explain any discrepancies found.\n",
      "Be particularly attentive to dates and time-sensitive information., tool_calls = None)\n",
      " -> (role = user, content = Who won the 2025 Oscar for International Movie?, tool_calls = None)\n",
      " -> (role = assistant, content = None, tool_calls = [ChatCompletionMessageToolCall(id='call_qzAPaG8fyOwkDFkY6ZdJlYkq', function=Function(arguments='{\"query\":\"2025 Oscar winner for Best International Feature Film\",\"search_depth\":\"advanced\"}', name='web_search'), type='function')])\n",
      " -> (role = tool, content = {\"answer\": \"The 2025 Oscar winner for Best International Feature Film is \\\"I'm Still Here\\\" from Brazil. It won the award at the 97th Academy Awards.\", \"results\": [{\"url\": \"https://www.hollywoodreporter.com/lists/oscars-2025-winners-list/\", \"title\": \"Oscar 2025 Winners: The Full List - The Hollywood Reporter\", \"content\": \"Meanwhile, Flow won the award for best animated feature, marking the first-ever win for Latvia. No Other Land was named best documentary feature. I\\u2019m Still Here was named best international feature film, marking Brazil\\u2019s first Oscar win.\\nPeter Straughan won the award for best adapted screenplay for Conclave.\\nPaul Tazewell became the first Black man to win the Oscar for best costume design, for his work on Wicked. The musical movie also won best production design. [...] Anora was named best picture at the 2025 Oscars, which were handed out Sunday night.\\nAnora was the top winner of the night, earning a total of five awards. Star Mikey Madison was named best actress, while Sean Baker won a record-breaking four awards for his film: best director, best original screenplay and best film editing (in addition to best picture). [...] Documentary Short Film\\n    ----------------------\\n\\nImage Credit: Kevin Winter/Getty Images\\nDeath by Numbers (Kim A. Snyder and Janique L. Robillard)I Am Ready, Warden (Smriti Mundhra and Maya Gnyp)\\nIncident (Bill Morrison and Jamie Kalven)\\nInstruments of a Beating Heart (Ema Ryan Yamazaki and Eric Nyari)\\nThe Only Girl in the Orchestra (Molly O\\u2019Brien and Lisa Remington) (WINNER)\\n\\n\\nInternational Feature Film\\n    --------------------------\", \"score\": 0.9202254, \"raw_content\": null}, {\"url\": \"https://www.npr.org/2025/03/02/nx-s1-5315313/oscars-2025-im-still-here-brazil-best-international-feature\", \"title\": \"Oscars 2025: Brazil's 'I'm Still Here' wins best international feature\", \"content\": \"Oscars 2025\\nOscars 2025: The complete list of winners [...] Oscars 2025: Brazil\\u2019s \\u2018I\\u2019m Still Here\\u2019 wins best international feature The film is based on a true story set in 1970s Rio de Janeiro, when Brazil was living under a military dictatorship.\\n Special Series Oscars 2025 ----------- News, reviews, interviews and features about Hollywood's biggest night\\nBrazil's 'I'm Still Here' wins best international feature at the Oscars\\nMarch 2, 202510:27 PM ET\\n\\nMandalit del Barco [...] Published Time: 2025-03-02T22:27:09-05:00\\nOscars 2025: Brazil\\u2019s \\u2018I\\u2019m Still Here\\u2019 wins best international feature : NPR\\nAccessibility links\\n\\nSkip to main content\\n\\nKeyboard shortcuts for audio player\\n\\n\\nOpen Navigation Menu\\n\\n\\n\\n\\n\\nNewsletters\\n\\n\\nNPR Shop\\n\\n\\nClose Navigation Menu\\n\\n\\nHome\\n\\n\\nNews Expand/collapse submenu for News\\n\\nNational\\nWorld\\nPolitics\\nBusiness\\nHealth\\nScience\\nClimate\\nRace\\n\\nCulture Expand/collapse submenu for Culture\\n\\n\\nBooks\", \"score\": 0.9163571, \"raw_content\": null}, {\"url\": \"https://people.com/oscars-2025-im-still-here-brazil-best-international-feature-11684447\", \"title\": \"Oscars 2025: 'I'm Still Here' Wins Best International Feature\", \"content\": \"Brazil's 'I'm Still Here' won the Best International Feature award at the Academy Awards on Sunday, March 2; other nominees included 'Emilia\", \"score\": 0.9121316, \"raw_content\": null}, {\"url\": \"https://www.opb.org/article/2025/03/03/oscars-winners-2025-list/\", \"title\": \"The complete list of 2025 Oscars winners - OPB\", \"content\": \"WINNER: Flow\\n\\nInside Out 2\\n\\nMemoir of a Snail\\n\\nWallace & Gromit: Vengeance Most Fowl\\n\\nThe Wild Robot\\n\\nBest international feature film\\n\\nWINNER: I\\u2019m Still Here, Brazil\\n\\nThe Girl with the Needle, Denmark\\n\\nEmilia P\\u00e9rez, France\\n\\nThe Seed of the Sacred Fig, Germany\\n\\nFlow, Latvia\\n\\nBest documentary feature film\\n\\nWINNER: No Other Land\\n\\nBlack Box Diaries\\n\\nPorcelain War\\n\\nSoundtrack to a Coup d\\u2019Etat\\n\\nSugarcane\\n\\nOriginal Score\\n\\nWINNER: The Brutalist, Daniel Blumberg\\n\\nConclave, Volker Bertelmann [...] The complete list of 2025 Oscars winners\\n\\nAdrien Brody, left, winner of the best actor award for <em>The Brutalist</em>, Mikey Madison, winner of the best actress award for <em>Anora</em>, Zoe Salda\\u00f1a winner of the best actress in a supporting role award for <em>Emilia P\\u00e9rez</em>, and Kieran Culkin winner of the best actor in a supporting role award for <em>A Real Pain</em>, pose in the press room during the 97th Academy Awards.\\n\\nMaya Dehlin Spach / Getty Images [...] The ceremony aired on ABC and streamed on Hulu. Hosted by Conan O\\u2019Brien, the Oscars took place in the aftermath of devastating Los Angeles wildfires. You can read our takeaways here and check out our red carpet coverage here.\\n\\nBelow is the full list of 2025 Academy Award winners and nominees.\\n\\nBest picture\\n\\nWINNER: Anora\\n\\nThe Brutalist\\n\\nA Complete Unknown\\n\\nConclave\\n\\nDune: Part Two\\n\\nEmilia P\\u00e9rez\\n\\nI\\u2019m Still Here\\n\\nNickel Boys\\n\\nThe Substance\\n\\nWicked\\n\\nAchievement in directing\", \"score\": 0.89279664, \"raw_content\": null}, {\"url\": \"https://abc.com/news/8d96bb37-bd59-4c28-a470-46f244f63b3b/category/3590742\", \"title\": \"Oscars 2025 Winners: Full List of the 97th Academy Awards Winners!\", \"content\": \"International Feature Film\\nI'M STILL HERE\\u00a0\\u00a0**WINNER**\\nBrazil  \\nTHE GIRL WITH THE NEEDLE\\nDenmark  \\nEMILIA P\\u00c9REZ\\nFrance  \\nTHE SEED OF THE SACRED FIG\\nGermany  \\nFLOW\\nLatvia\", \"score\": 0.8724455, \"raw_content\": null}], \"search_metadata\": {\"timestamp\": \"2025-05-29T09:05:15.421534\", \"query\": \"2025 Oscar winner for Best International Feature Film\"}}, tool_calls = None)\n",
      " -> (role = assistant, content = The 2025 Oscar for Best International Feature Film was awarded to **\"I'm Still Here,\"** a film from Brazil. This win marked Brazil's first Oscar in this category. The award was presented during the 97th Academy Awards held on March 2, 2025. \n",
      "\n",
      "Other nominees for this category included:\n",
      "- \"The Girl with the Needle\" (Denmark)\n",
      "- \"Emilia Pérez\" (France)\n",
      "- \"The Seed of the Sacred Fig\" (Germany)\n",
      "- \"Flow\" (Latvia)\n",
      "\n",
      "\"I'm Still Here\" is based on a true story set in 1970s Rio de Janeiro during Brazil's military dictatorship, showcasing the struggle for freedom and identity during this tumultuous period ([The Hollywood Reporter](https://www.hollywoodreporter.com/lists/oscars-2025-winners-list/), [NPR](https://www.npr.org/2025/03/02/nx-s1-5315313/oscars-2025-im-still-here-brazil-best-international-feature), [People](https://people.com/oscars-2025-im-still-here-brazil-best-international-feature-11684447))., tool_calls = None)\n",
      " -> (role = user, content = What are the most recent developments in AI technology?, tool_calls = None)\n",
      " -> (role = assistant, content = None, tool_calls = [ChatCompletionMessageToolCall(id='call_jLsZSoRf0xhOJhHYw9KG4kBE', function=Function(arguments='{\"query\":\"latest developments in AI technology 2025\",\"search_depth\":\"advanced\"}', name='web_search'), type='function')])\n",
      " -> (role = tool, content = {\"answer\": \"In 2025, Google released Gemini 2.0, advanced AI models Veo 2 and Imagen 3, and Alibaba launched Qwen3, narrowing the AI gap with US firms. China accelerated AI development with new models and a National Computing Power Grid.\", \"results\": [{\"url\": \"https://www.crescendo.ai/news/latest-ai-news-and-updates\", \"title\": \"Latest AI Breakthroughs and News: April- May 2025 - Crescendo.ai\", \"content\": \"Summary: Google announced significant AI advancements, including the release of Gemini 2.0, their most capable model to date, featuring agentic capabilities for developers, enterprises, and individuals. They also introduced new AI video and image generation models, Veo 2 and Imagen 3, achieving state-of-the-art results in head-to-head comparisons. These developments highlight Google's commitment to advancing AI technology across various applications.\\n\\nSource: Google AI Blog [...] Date: March 12, 2025Summary: China is accelerating AI development to counter U.S. trade restrictions, rolling out models like Manus and DeepSeek, which rival top U.S. counterparts. The government collaborates with private sectors and universities, reducing dependence on imported technology and establishing a National Computing Power Grid to support AI advancements.Source: VOA News\\n\\nGoogle Co-Founder Larry Page Launches AI Startup Dynatomics\\n\\nDate: March 7, 2025 [...] The Fresh and Interesting Artificial Intelligence News\\n\\nHere are all the impactful and latest AI breakthroughs that are shaping the world around us.\\u00c2\\n\\nUS Tech Giants Face New Challenge as Alibaba's Qwen3 Narrows the AI Gap\\n\\nDate: May 5, 2025Summary: Alibaba\\u00e2\\u0080\\u0099s latest AI model, Qwen3, significantly narrows the technology gap with leading US firms. Qwen3's advancements in cost efficiency and multilingual capabilities position it as a competitive alternative for global enterprises.Source: TechHQ\", \"score\": 0.9134376, \"raw_content\": null}], \"search_metadata\": {\"timestamp\": \"2025-05-29T09:05:27.055137\", \"query\": \"latest developments in AI technology 2025\"}}, tool_calls = None)\n",
      " -> (role = assistant, content = As of 2025, significant advancements in AI technology have been reported, highlighting key developments from major tech companies:\n",
      "\n",
      "1. **Google's Gemini 2.0**: Released in March 2025, Gemini 2.0 is Google's most advanced AI model to date. It features agentic capabilities, enhancing its usability for developers, enterprises, and individuals. This model is part of Google's ongoing efforts to push the boundaries of AI technology across different applications.\n",
      "\n",
      "2. **New AI Models**: Google also introduced Veo 2 and Imagen 3, which are advanced models for video and image generation, respectively. These models have achieved state-of-the-art results in comparative evaluations, showcasing Google's commitment to excellence in AI.\n",
      "\n",
      "3. **Alibaba's Qwen3**: In May 2025, Alibaba launched Qwen3, which has significantly narrowed the technological gap with leading U.S. AI firms. Qwen3 boasts advancements in cost efficiency and multilingual capabilities, positioning it as a viable alternative for global enterprises.\n",
      "\n",
      "4. **China's AI Initiatives**: The Chinese government is accelerating its AI development to compete with U.S. technology. This includes rolling out new models like Manus and DeepSeek, which aim to rival top U.S. counterparts. China is also establishing a National Computing Power Grid to support AI advancements, reducing its dependence on imported technology ([Crescendo.ai](https://www.crescendo.ai/news/latest-ai-news-and-updates)).\n",
      "\n",
      "These developments indicate a rapidly evolving landscape in AI, with both U.S. and Chinese companies making significant strides to lead in this critical technology sector., tool_calls = None)\n"
     ]
    }
   ],
   "source": [
    "run2 = web_agent.invoke(\n",
    "    query=\"What are the most recent developments in AI technology?\", \n",
    ")\n",
    "print(\"\\nMessages from run 2:\")\n",
    "messages = run2.get_final_state()[\"messages\"]\n",
    "print_messages(messages)"
   ]
  },
  {
   "cell_type": "code",
   "execution_count": 17,
   "id": "59054976",
   "metadata": {},
   "outputs": [
    {
     "name": "stdout",
     "output_type": "stream",
     "text": [
      "As of 2025, significant advancements in AI technology have been reported, highlighting key developments from major tech companies:\n",
      "\n",
      "1. **Google's Gemini 2.0**: Released in March 2025, Gemini 2.0 is Google's most advanced AI model to date. It features agentic capabilities, enhancing its usability for developers, enterprises, and individuals. This model is part of Google's ongoing efforts to push the boundaries of AI technology across different applications.\n",
      "\n",
      "2. **New AI Models**: Google also introduced Veo 2 and Imagen 3, which are advanced models for video and image generation, respectively. These models have achieved state-of-the-art results in comparative evaluations, showcasing Google's commitment to excellence in AI.\n",
      "\n",
      "3. **Alibaba's Qwen3**: In May 2025, Alibaba launched Qwen3, which has significantly narrowed the technological gap with leading U.S. AI firms. Qwen3 boasts advancements in cost efficiency and multilingual capabilities, positioning it as a viable alternative for global enterprises.\n",
      "\n",
      "4. **China's AI Initiatives**: The Chinese government is accelerating its AI development to compete with U.S. technology. This includes rolling out new models like Manus and DeepSeek, which aim to rival top U.S. counterparts. China is also establishing a National Computing Power Grid to support AI advancements, reducing its dependence on imported technology ([Crescendo.ai](https://www.crescendo.ai/news/latest-ai-news-and-updates)).\n",
      "\n",
      "These developments indicate a rapidly evolving landscape in AI, with both U.S. and Chinese companies making significant strides to lead in this critical technology sector.\n"
     ]
    }
   ],
   "source": [
    "print(run2.get_final_state()[\"messages\"][-1].content)"
   ]
  },
  {
   "cell_type": "markdown",
   "id": "aef7f078",
   "metadata": {},
   "source": [
    "## Advanced"
   ]
  },
  {
   "cell_type": "markdown",
   "id": "0575a7f8",
   "metadata": {},
   "source": [
    "You can modify `agents.py` to include: \n",
    "- a comparison field in the state schema\n",
    "- a web search step\n",
    "- a comparison step in the workflow"
   ]
  }
 ],
 "metadata": {
  "kernelspec": {
   "display_name": ".venv",
   "language": "python",
   "name": "python3"
  },
  "language_info": {
   "codemirror_mode": {
    "name": "ipython",
    "version": 3
   },
   "file_extension": ".py",
   "mimetype": "text/x-python",
   "name": "python",
   "nbconvert_exporter": "python",
   "pygments_lexer": "ipython3",
   "version": "3.11.10"
  }
 },
 "nbformat": 4,
 "nbformat_minor": 5
}
